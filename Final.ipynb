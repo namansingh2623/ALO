{
 "cells": [
  {
   "cell_type": "code",
   "execution_count": 3,
   "metadata": {},
   "outputs": [],
   "source": [
    "import get_function_details\n",
    "\n",
    "import func_plot"
   ]
  },
  {
   "cell_type": "code",
   "execution_count": 2,
   "metadata": {},
   "outputs": [
    {
     "ename": "TypeError",
     "evalue": "object of type 'int' has no len()",
     "output_type": "error",
     "traceback": [
      "\u001b[0;31m---------------------------------------------------------------------------\u001b[0m",
      "\u001b[0;31mTypeError\u001b[0m                                 Traceback (most recent call last)",
      "\u001b[1;32m/Users/naman/Desktop/SEM-2 PDFS/AI PDF/ALO/Final.ipynb Cell 2\u001b[0m line \u001b[0;36m1\n\u001b[0;32m----> <a href='vscode-notebook-cell:/Users/naman/Desktop/SEM-2%20PDFS/AI%20PDF/ALO/Final.ipynb#W1sZmlsZQ%3D%3D?line=0'>1</a>\u001b[0m get_function_details\u001b[39m.\u001b[39;49mF9(\u001b[39m10\u001b[39;49m)\n",
      "File \u001b[0;32m~/Desktop/SEM-2 PDFS/AI PDF/ALO/get_function_details.py:45\u001b[0m, in \u001b[0;36mF9\u001b[0;34m(x)\u001b[0m\n\u001b[1;32m     44\u001b[0m \u001b[39mdef\u001b[39;00m \u001b[39mF9\u001b[39m(x):\n\u001b[0;32m---> 45\u001b[0m     dim \u001b[39m=\u001b[39m \u001b[39mlen\u001b[39;49m(x)\n\u001b[1;32m     46\u001b[0m     \u001b[39mreturn\u001b[39;00m np\u001b[39m.\u001b[39msum(np\u001b[39m.\u001b[39mpower(x, \u001b[39m2\u001b[39m) \u001b[39m-\u001b[39m \u001b[39m10\u001b[39m \u001b[39m*\u001b[39m np\u001b[39m.\u001b[39mcos(\u001b[39m2\u001b[39m \u001b[39m*\u001b[39m np\u001b[39m.\u001b[39mpi \u001b[39m*\u001b[39m np\u001b[39m.\u001b[39marray(x))) \u001b[39m+\u001b[39m \u001b[39m10\u001b[39m \u001b[39m*\u001b[39m dim\n",
      "\u001b[0;31mTypeError\u001b[0m: object of type 'int' has no len()"
     ]
    }
   ],
   "source": [
    "get_function_details.F9(10)\n"
   ]
  },
  {
   "cell_type": "code",
   "execution_count": 5,
   "metadata": {},
   "outputs": [
    {
     "data": {
      "text/plain": [
       "9100.0"
      ]
     },
     "execution_count": 5,
     "metadata": {},
     "output_type": "execute_result"
    }
   ],
   "source": [
    "get_function_details.F9([10,20,30,40,50,60])"
   ]
  },
  {
   "cell_type": "code",
   "execution_count": null,
   "metadata": {},
   "outputs": [],
   "source": [
    "# F3 takes a list\n",
    "# F5 issue. Need to check concatenation\n",
    "# F7 List \n",
    "# F9 issue unsupported operand type(s) for ** or pow(): 'list' and 'int'\n",
    "# F10 unsupported operand type(s) for ** or pow(): 'list' and 'int'\n",
    "# F11: unsupported operand type(s) for ** or pow(): 'list' and 'int'"
   ]
  },
  {
   "cell_type": "code",
   "execution_count": null,
   "metadata": {},
   "outputs": [],
   "source": [
    "\n",
    "import numpy as np\n",
    "\n",
    "def F9(x):\n",
    "    dim = len(x)\n",
    "    return np.sum(np.power(x, 2) - 10 * np.cos(2 * np.pi * np.array(x))) + 10 * dim\n"
   ]
  },
  {
   "cell_type": "code",
   "execution_count": null,
   "metadata": {},
   "outputs": [
    {
     "data": {
      "text/plain": [
       "9100.0"
      ]
     },
     "execution_count": 66,
     "metadata": {},
     "output_type": "execute_result"
    }
   ],
   "source": [
    "F9([10,20,30,40,50,60])"
   ]
  },
  {
   "cell_type": "code",
   "execution_count": null,
   "metadata": {},
   "outputs": [],
   "source": []
  }
 ],
 "metadata": {
  "kernelspec": {
   "display_name": "Python 3",
   "language": "python",
   "name": "python3"
  },
  "language_info": {
   "codemirror_mode": {
    "name": "ipython",
    "version": 3
   },
   "file_extension": ".py",
   "mimetype": "text/x-python",
   "name": "python",
   "nbconvert_exporter": "python",
   "pygments_lexer": "ipython3",
   "version": "3.11.5"
  }
 },
 "nbformat": 4,
 "nbformat_minor": 2
}
